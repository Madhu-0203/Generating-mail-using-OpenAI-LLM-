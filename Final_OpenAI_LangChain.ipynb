{
  "cells": [
    {
      "cell_type": "code",
      "execution_count": 20,
      "metadata": {},
      "outputs": [],
      "source": [
        "COHERE_API_KEY = \"JBO8Eer0QIcIgu0f5tjJrBaDYTahbS8GmwYjQSwj\""
      ]
    },
    {
      "cell_type": "code",
      "execution_count": 21,
      "metadata": {},
      "outputs": [],
      "source": [
        "from langchain.llms import Cohere\n",
        "from langchain import PromptTemplate, LLMChain"
      ]
    },
    {
      "cell_type": "code",
      "execution_count": 22,
      "metadata": {},
      "outputs": [],
      "source": [
        "combine_prompt = \"\"\"\n",
        "Your goal is to write a personlized outbound email from {red_team}, customer service at {company} to {user}.\n",
        "\n",
        "A good email is personalized and combines information on how the product can be useful to the user.\n",
        "Be sure to use value selling: A sales methodology that focuses on how the product/service will provide value to the user.\n",
        "\n",
        "INFORMATION ABOUT product to sell:\n",
        "{keywords} {text}\n",
        "\n",
        "INCLUDE THE FOLLOWING PIECES IN YOUR EMAIL:\n",
        "- Start the email with the sentence: \"We love that {user} is interest in our product...\"\n",
        "- A 1-2 sentence description about the {red_team}, be brief\n",
        "- Suggest 20% discount on the product/ service.\n",
        "- End your email with a call-to-action such as return to this email if interest.\n",
        "\n",
        "YOUR EMAIL:\n",
        "\n",
        "\"\"\"\n",
        "\n",
        "combine_prompt_template = PromptTemplate(\n",
        "    template=combine_prompt,\n",
        "    input_variables=[\"red_team\", \"company\", \"user\", \"keywords\", \"text\"],\n",
        ")"
      ]
    },
    {
      "cell_type": "code",
      "execution_count": 23,
      "metadata": {},
      "outputs": [],
      "source": [
        "llm = Cohere(cohere_api_key=COHERE_API_KEY)"
      ]
    },
    {
      "cell_type": "code",
      "execution_count": 24,
      "metadata": {},
      "outputs": [],
      "source": [
        "llm_chain = LLMChain(prompt=combine_prompt_template, llm=llm)"
      ]
    },
    {
      "cell_type": "code",
      "execution_count": 25,
      "metadata": {},
      "outputs": [
        {
          "data": {
            "text/plain": [
              "'We love that Mr. Arun Kumar is interested in our product. Our team is dedicated to providing the best possible experience for our customers, and we are confident that our product can be a great fit for Mr. Arun Kumar.\\n\\nOur Sales Manager is an expert in the field and has a wealth of experience to offer. He has been working in the industry for over 10 years and has a deep understanding of the market. He is also a great communicator and is always available to help our customers.\\n\\nWe suggest a 20% discount on our product/service. We believe that this will be a great incentive for Mr. Arun Kumar to try our product.\\n\\nIf Mr. Arun Kumar is still interested in our product after reading this email, please do not hesitate to return to this email. We are here to help.'"
            ]
          },
          "execution_count": 25,
          "metadata": {},
          "output_type": "execute_result"
        }
      ],
      "source": [
        "inputs = {\n",
        "    \"keywords\": \"\"\"\n",
        "    nike shoes black brown low price puma shoes pink colour\n",
        "    \"\"\",\n",
        "\n",
        "    \"red_team\" : \"\"\" Sales Manager \"\"\",\n",
        "\n",
        "    \"user\" : \"\"\"  Mr. Arun Kumar \"\"\",\n",
        "\n",
        "    \"company\" : \"\"\" Mad essentials \"\"\",\n",
        "\n",
        "\n",
        "    \"text\" : \"\"\" The user is from a  well reputed organisation and lives a luxurious lifestyle \"\"\"\n",
        "}\n",
        "\n",
        "\n",
        "llm_chain.run(inputs)"
      ]
    },
    {
      "cell_type": "code",
      "execution_count": null,
      "metadata": {},
      "outputs": [],
      "source": []
    }
  ],
  "metadata": {
    "colab": {
      "provenance": []
    },
    "kernelspec": {
      "display_name": "Python 3",
      "name": "python3"
    },
    "language_info": {
      "codemirror_mode": {
        "name": "ipython",
        "version": 3
      },
      "file_extension": ".py",
      "mimetype": "text/x-python",
      "name": "python",
      "nbconvert_exporter": "python",
      "pygments_lexer": "ipython3",
      "version": "3.9.13"
    }
  },
  "nbformat": 4,
  "nbformat_minor": 0
}
